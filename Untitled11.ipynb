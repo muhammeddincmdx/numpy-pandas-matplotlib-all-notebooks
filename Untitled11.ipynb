{
 "cells": [
  {
   "cell_type": "markdown",
   "id": "d4d3ec99",
   "metadata": {},
   "source": [
    "# type conversion"
   ]
  },
  {
   "cell_type": "code",
   "execution_count": 1,
   "id": "ee4a2604",
   "metadata": {},
   "outputs": [
    {
     "name": "stdout",
     "output_type": "stream",
     "text": [
      "5\n",
      "6\n"
     ]
    }
   ],
   "source": [
    "toplama_bir = input()\n",
    "toplama_iki = input()"
   ]
  },
  {
   "cell_type": "code",
   "execution_count": 2,
   "id": "16302680",
   "metadata": {},
   "outputs": [
    {
     "data": {
      "text/plain": [
       "str"
      ]
     },
     "execution_count": 2,
     "metadata": {},
     "output_type": "execute_result"
    }
   ],
   "source": [
    "type(toplama_bir)"
   ]
  },
  {
   "cell_type": "code",
   "execution_count": 4,
   "id": "41d27c53",
   "metadata": {},
   "outputs": [
    {
     "name": "stdout",
     "output_type": "stream",
     "text": [
      "56\n"
     ]
    }
   ],
   "source": [
    "print(toplama_bir + toplama_iki)"
   ]
  },
  {
   "cell_type": "code",
   "execution_count": 6,
   "id": "c1d5b991",
   "metadata": {},
   "outputs": [
    {
     "data": {
      "text/plain": [
       "11"
      ]
     },
     "execution_count": 6,
     "metadata": {},
     "output_type": "execute_result"
    }
   ],
   "source": [
    "int(toplama_bir)+int(toplama_iki)"
   ]
  },
  {
   "cell_type": "code",
   "execution_count": 7,
   "id": "41f61e93",
   "metadata": {},
   "outputs": [
    {
     "data": {
      "text/plain": [
       "11"
      ]
     },
     "execution_count": 7,
     "metadata": {},
     "output_type": "execute_result"
    }
   ],
   "source": [
    "int(11.1242)"
   ]
  },
  {
   "cell_type": "code",
   "execution_count": 8,
   "id": "93aec630",
   "metadata": {},
   "outputs": [
    {
     "data": {
      "text/plain": [
       "12.0"
      ]
     },
     "execution_count": 8,
     "metadata": {},
     "output_type": "execute_result"
    }
   ],
   "source": [
    "float(12)"
   ]
  },
  {
   "cell_type": "code",
   "execution_count": 9,
   "id": "9c853822",
   "metadata": {},
   "outputs": [
    {
     "data": {
      "text/plain": [
       "11"
      ]
     },
     "execution_count": 9,
     "metadata": {},
     "output_type": "execute_result"
    }
   ],
   "source": [
    "int(11.99)"
   ]
  },
  {
   "cell_type": "markdown",
   "id": "40dbb043",
   "metadata": {},
   "source": [
    "# printing"
   ]
  },
  {
   "cell_type": "code",
   "execution_count": 10,
   "id": "6f927c89",
   "metadata": {},
   "outputs": [
    {
     "name": "stdout",
     "output_type": "stream",
     "text": [
      "set another set\n"
     ]
    }
   ],
   "source": [
    "print(\"set\",\"another set\")"
   ]
  },
  {
   "cell_type": "code",
   "execution_count": 11,
   "id": "92a43393",
   "metadata": {},
   "outputs": [
    {
     "name": "stdout",
     "output_type": "stream",
     "text": [
      "set--another set\n"
     ]
    }
   ],
   "source": [
    "print(\"set\",\"another set\",sep = \"--\")"
   ]
  },
  {
   "cell_type": "code",
   "execution_count": 12,
   "id": "f846d1ca",
   "metadata": {},
   "outputs": [
    {
     "data": {
      "text/plain": [
       "int"
      ]
     },
     "execution_count": 12,
     "metadata": {},
     "output_type": "execute_result"
    }
   ],
   "source": [
    "type(4)"
   ]
  },
  {
   "cell_type": "code",
   "execution_count": 13,
   "id": "7ecbfe00",
   "metadata": {},
   "outputs": [
    {
     "data": {
      "text/plain": [
       "'ab'"
      ]
     },
     "execution_count": 13,
     "metadata": {},
     "output_type": "execute_result"
    }
   ],
   "source": [
    "\"a\"+\"b\""
   ]
  },
  {
   "cell_type": "code",
   "execution_count": 14,
   "id": "6e1af4d2",
   "metadata": {},
   "outputs": [
    {
     "ename": "TypeError",
     "evalue": "can only concatenate str (not \"int\") to str",
     "output_type": "error",
     "traceback": [
      "\u001b[1;31m---------------------------------------------------------------------------\u001b[0m",
      "\u001b[1;31mTypeError\u001b[0m                                 Traceback (most recent call last)",
      "Cell \u001b[1;32mIn[14], line 1\u001b[0m\n\u001b[1;32m----> 1\u001b[0m \u001b[38;5;124;43m\"\u001b[39;49m\u001b[38;5;124;43m10\u001b[39;49m\u001b[38;5;124;43m\"\u001b[39;49m\u001b[38;5;241;43m+\u001b[39;49m\u001b[38;5;241;43m2\u001b[39;49m\n",
      "\u001b[1;31mTypeError\u001b[0m: can only concatenate str (not \"int\") to str"
     ]
    }
   ],
   "source": [
    "\"10\"+2"
   ]
  },
  {
   "cell_type": "code",
   "execution_count": 15,
   "id": "e123cae6",
   "metadata": {},
   "outputs": [
    {
     "name": "stdout",
     "output_type": "stream",
     "text": [
      "g\n"
     ]
    }
   ],
   "source": [
    "ifade = \"gelecek\"\n",
    "print(ifade[0])"
   ]
  },
  {
   "cell_type": "code",
   "execution_count": 16,
   "id": "86ab1b56",
   "metadata": {},
   "outputs": [
    {
     "name": "stdout",
     "output_type": "stream",
     "text": [
      "ge\n"
     ]
    }
   ],
   "source": [
    "print(ifade[0:2])"
   ]
  },
  {
   "cell_type": "code",
   "execution_count": 18,
   "id": "2223a3ae",
   "metadata": {},
   "outputs": [
    {
     "name": "stdout",
     "output_type": "stream",
     "text": [
      " uz\n",
      "b\n"
     ]
    }
   ],
   "source": [
    "a = \"bu uzun bir metindir\"\n",
    "print(a[2:5])\n",
    "\n",
    "print(a[8])"
   ]
  },
  {
   "cell_type": "code",
   "execution_count": 19,
   "id": "a4cc5483",
   "metadata": {},
   "outputs": [
    {
     "data": {
      "text/plain": [
       "'Python'"
      ]
     },
     "execution_count": 19,
     "metadata": {},
     "output_type": "execute_result"
    }
   ],
   "source": [
    "\"_Python_\".strip(\"_\")"
   ]
  },
  {
   "cell_type": "code",
   "execution_count": 20,
   "id": "d70bccd2",
   "metadata": {},
   "outputs": [
    {
     "data": {
      "text/plain": [
       "'Merhaba! '"
      ]
     },
     "execution_count": 20,
     "metadata": {},
     "output_type": "execute_result"
    }
   ],
   "source": [
    "a =\"Merhaba! \"\n",
    "a.strip(\"\")"
   ]
  },
  {
   "cell_type": "code",
   "execution_count": 21,
   "id": "25600bdc",
   "metadata": {},
   "outputs": [
    {
     "data": {
      "text/plain": [
       "'012340'"
      ]
     },
     "execution_count": 21,
     "metadata": {},
     "output_type": "execute_result"
    }
   ],
   "source": [
    "a= \"1012340\"\n",
    "a = a + \"1\"\n",
    "a.strip(\"1\")"
   ]
  },
  {
   "cell_type": "code",
   "execution_count": 2,
   "id": "90f6f59e",
   "metadata": {},
   "outputs": [
    {
     "name": "stdout",
     "output_type": "stream",
     "text": [
      "4\n",
      "2\n"
     ]
    }
   ],
   "source": [
    "liste = [1,2,3,1,1,1]\n",
    "print(liste.count(1))\n",
    "print(liste.pop(1))"
   ]
  },
  {
   "cell_type": "code",
   "execution_count": 3,
   "id": "a3c0eb73",
   "metadata": {},
   "outputs": [
    {
     "data": {
      "text/plain": [
       "20"
      ]
     },
     "execution_count": 3,
     "metadata": {},
     "output_type": "execute_result"
    }
   ],
   "source": [
    "liste = [10,20,30,40]\n",
    "liste.pop(1)"
   ]
  },
  {
   "cell_type": "code",
   "execution_count": 4,
   "id": "d9867ccc",
   "metadata": {},
   "outputs": [
    {
     "data": {
      "text/plain": [
       "[10, 30, 40]"
      ]
     },
     "execution_count": 4,
     "metadata": {},
     "output_type": "execute_result"
    }
   ],
   "source": [
    "liste"
   ]
  },
  {
   "cell_type": "code",
   "execution_count": 9,
   "id": "e84e3f38",
   "metadata": {},
   "outputs": [
    {
     "data": {
      "text/plain": [
       "1"
      ]
     },
     "execution_count": 9,
     "metadata": {},
     "output_type": "execute_result"
    }
   ],
   "source": [
    "liste = [\"a\",\"b\",\"c\"]\n",
    "liste.index(\"b\")\n"
   ]
  },
  {
   "cell_type": "code",
   "execution_count": 7,
   "id": "e4e86de2",
   "metadata": {},
   "outputs": [
    {
     "ename": "TypeError",
     "evalue": "'tuple' object does not support item assignment",
     "output_type": "error",
     "traceback": [
      "\u001b[1;31m---------------------------------------------------------------------------\u001b[0m",
      "\u001b[1;31mTypeError\u001b[0m                                 Traceback (most recent call last)",
      "Cell \u001b[1;32mIn[7], line 2\u001b[0m\n\u001b[0;32m      1\u001b[0m t \u001b[38;5;241m=\u001b[39m (\u001b[38;5;124m\"\u001b[39m\u001b[38;5;124ma\u001b[39m\u001b[38;5;124m\"\u001b[39m,\u001b[38;5;241m1\u001b[39m,\u001b[38;5;124m\"\u001b[39m\u001b[38;5;124mb\u001b[39m\u001b[38;5;124m\"\u001b[39m)\n\u001b[1;32m----> 2\u001b[0m t[\u001b[38;5;241m0\u001b[39m] \u001b[38;5;241m=\u001b[39m \u001b[38;5;241m1\u001b[39m\n",
      "\u001b[1;31mTypeError\u001b[0m: 'tuple' object does not support item assignment"
     ]
    }
   ],
   "source": [
    "t = (\"a\",1,\"b\")\n",
    "t[0] = 1"
   ]
  },
  {
   "cell_type": "code",
   "execution_count": 1,
   "id": "e6390bde",
   "metadata": {},
   "outputs": [],
   "source": [
    "?print"
   ]
  },
  {
   "cell_type": "code",
   "execution_count": 3,
   "id": "49aee450",
   "metadata": {},
   "outputs": [
    {
     "name": "stdout",
     "output_type": "stream",
     "text": [
      "1.375\n"
     ]
    }
   ],
   "source": [
    "#fonksiyon çıktılarını girdi olarak kullanma\n",
    "def direk_hesap(isi,nem,sarj):\n",
    "    return ((isi+nem)/sarj)\n",
    "\n",
    "cikti = direk_hesap(25,30,40)\n",
    "print(cikti)"
   ]
  },
  {
   "cell_type": "code",
   "execution_count": 4,
   "id": "ee380f01",
   "metadata": {},
   "outputs": [
    {
     "name": "stdout",
     "output_type": "stream",
     "text": [
      "Magaza adi nedir?LCW\n",
      "geliriniz nedir?499999999\n",
      "well done LCW\n"
     ]
    }
   ],
   "source": [
    "#mini project\n",
    "sinir = 50000\n",
    "magaza_adi = input(\"Magaza adi nedir?\")\n",
    "gelir = (input(\"geliriniz nedir?\"))\n",
    "# kullanıcıdan gelen bilgiler her zaman string olarak gelir\n",
    "if int(gelir)>sinir:\n",
    "    print(\"well done \"+ magaza_adi)\n",
    "elif int(gelir)<sinir:\n",
    "    print(\"very bad\")\n",
    "else:\n",
    "    print(\"take it easy\")"
   ]
  },
  {
   "cell_type": "code",
   "execution_count": 8,
   "id": "f492cc67",
   "metadata": {},
   "outputs": [
    {
     "name": "stdout",
     "output_type": "stream",
     "text": [
      "ali\n"
     ]
    }
   ],
   "source": [
    "#for loop\n",
    "\n",
    "ogrenci = [\"ali\",\"veli\",\"deli\"]\n",
    "print(ogrenci[0])\n"
   ]
  },
  {
   "cell_type": "code",
   "execution_count": 9,
   "id": "2809e39e",
   "metadata": {},
   "outputs": [
    {
     "name": "stdout",
     "output_type": "stream",
     "text": [
      "ali\n",
      "veli\n",
      "deli\n"
     ]
    }
   ],
   "source": [
    "for i in ogrenci:\n",
    "    print(i)\n",
    "    "
   ]
  },
  {
   "cell_type": "code",
   "execution_count": 14,
   "id": "a0a5ab6a",
   "metadata": {},
   "outputs": [
    {
     "name": "stdout",
     "output_type": "stream",
     "text": [
      "1\n",
      "1\n",
      "1\n",
      "2\n",
      "1\n",
      "1\n",
      "1\n",
      "2\n"
     ]
    }
   ],
   "source": [
    "maaslar = [100,200,4999,35,3,53,5,35]\n",
    "for i in maaslar:\n",
    "    print(i)"
   ]
  },
  {
   "cell_type": "code",
   "execution_count": 15,
   "id": "fcf7e207",
   "metadata": {},
   "outputs": [
    {
     "name": "stdout",
     "output_type": "stream",
     "text": [
      "4\n"
     ]
    }
   ],
   "source": [
    "#using loop and function together\n",
    "def kare_al(x):\n",
    "    print(x**2)\n",
    "kare_al(2)"
   ]
  },
  {
   "cell_type": "code",
   "execution_count": 16,
   "id": "254e3317",
   "metadata": {},
   "outputs": [
    {
     "name": "stdout",
     "output_type": "stream",
     "text": [
      "100\n",
      "200\n",
      "300\n",
      "400\n"
     ]
    }
   ],
   "source": [
    "maaslar = [100,200,300,400]\n",
    "for i in maaslar:\n",
    "    print(i)"
   ]
  },
  {
   "cell_type": "code",
   "execution_count": 3,
   "id": "fd7e42ee",
   "metadata": {},
   "outputs": [
    {
     "name": "stdout",
     "output_type": "stream",
     "text": [
      "135.0\n",
      "270.0\n",
      "405.0\n",
      "540.0\n"
     ]
    }
   ],
   "source": [
    "#maaslara %20 zam yap\n",
    "#maaslar[0]*0.2 + maaslar[0]\n",
    "maaslar = [100,200,300,400]\n",
    "def maas_ust(x):\n",
    "    print(x*0.2+x)\n",
    "def maas_alt(x):\n",
    "    print(x*0.35+x)\n",
    "for i in maaslar:\n",
    "    if i >= 3000:\n",
    "        maas_ust(i)\n",
    "    else:\n",
    "        maas_alt(i)\n",
    "    "
   ]
  },
  {
   "cell_type": "code",
   "execution_count": 11,
   "id": "d57e97f4",
   "metadata": {},
   "outputs": [
    {
     "ename": "TypeError",
     "evalue": "'>=' not supported between instances of 'list' and 'int'",
     "output_type": "error",
     "traceback": [
      "\u001b[1;31m---------------------------------------------------------------------------\u001b[0m",
      "\u001b[1;31mTypeError\u001b[0m                                 Traceback (most recent call last)",
      "Cell \u001b[1;32mIn[11], line 10\u001b[0m\n\u001b[0;32m      8\u001b[0m         \u001b[38;5;28mprint\u001b[39m(x\u001b[38;5;241m*\u001b[39m\u001b[38;5;241m0.42\u001b[39m\u001b[38;5;241m+\u001b[39mx)\n\u001b[0;32m      9\u001b[0m \u001b[38;5;28;01mfor\u001b[39;00m i \u001b[38;5;129;01min\u001b[39;00m maasalar:\n\u001b[1;32m---> 10\u001b[0m     \u001b[43myeni_maaas\u001b[49m\u001b[43m(\u001b[49m\u001b[43mi\u001b[49m\u001b[43m)\u001b[49m\n",
      "Cell \u001b[1;32mIn[11], line 5\u001b[0m, in \u001b[0;36myeni_maaas\u001b[1;34m(x)\u001b[0m\n\u001b[0;32m      4\u001b[0m \u001b[38;5;28;01mdef\u001b[39;00m \u001b[38;5;21myeni_maaas\u001b[39m(x):\n\u001b[1;32m----> 5\u001b[0m     \u001b[38;5;28;01mif\u001b[39;00m \u001b[43mmaasalar\u001b[49m\u001b[38;5;241;43m>\u001b[39;49m\u001b[38;5;241;43m=\u001b[39;49m\u001b[43m \u001b[49m\u001b[38;5;241;43m3000\u001b[39;49m:\n\u001b[0;32m      6\u001b[0m         \u001b[38;5;28mprint\u001b[39m(x\u001b[38;5;241m*\u001b[39m\u001b[38;5;241m0.21\u001b[39m\u001b[38;5;241m+\u001b[39mx)\n\u001b[0;32m      7\u001b[0m     \u001b[38;5;28;01melse\u001b[39;00m:\n",
      "\u001b[1;31mTypeError\u001b[0m: '>=' not supported between instances of 'list' and 'int'"
     ]
    }
   ],
   "source": [
    "# farklı oranda maas artırma\n",
    "maasalar = [1500,2500,3000,4500,6700,8900,11000]\n",
    "\n",
    "def yeni_maaas(x):\n",
    "    if maasalar>= 3000:\n",
    "        print(x*0.21+x)\n",
    "    else:\n",
    "        print(x*0.42+x)\n",
    "for i in maasalar:\n",
    "    yeni_maaas(i)"
   ]
  },
  {
   "cell_type": "code",
   "execution_count": 25,
   "id": "9b6115db",
   "metadata": {},
   "outputs": [
    {
     "name": "stdout",
     "output_type": "stream",
     "text": [
      "Earnings\n",
      "before:1500 after:1830.0\n",
      "before:2500 after:3050.0\n",
      "before:3000 after:3330.0\n",
      "before:4500 after:4995.0\n",
      "before:6700 after:7437.0\n",
      "before:8900 after:9879.0\n",
      "before:11000 after:12210.0\n"
     ]
    }
   ],
   "source": [
    "# farklı oranda maas artırma\n",
    "maaslar = [1500,2500,3000,4500,6700,8900,11000]\n",
    "print(\"Earnings\")\n",
    "def maas_ust(x):\n",
    "    print(\"before:\"+ str(x) + \" after:\"+  str(x*0.11+x))\n",
    "def maas_alt(x):\n",
    "    print(\"before:\"+ str(x) + \" after:\"+ str(x*0.22+x))\n",
    "for i in maaslar:\n",
    "    if i >= 3000:\n",
    "        maas_ust(i)\n",
    "    else:\n",
    "        maas_alt(i)"
   ]
  },
  {
   "cell_type": "code",
   "execution_count": 32,
   "id": "d6531b62",
   "metadata": {},
   "outputs": [
    {
     "name": "stdout",
     "output_type": "stream",
     "text": [
      "1000\n",
      "2000\n",
      "stopped\n"
     ]
    }
   ],
   "source": [
    "#Break and continue\n",
    "maaslar = [1000,10000,3243243,2000,3000,4000]\n",
    "maaslar.sort() #sıralama için\n",
    "for i in maaslar:\n",
    "    if i == 3000:\n",
    "        print(\"stopped\")\n",
    "        break\n",
    "    print(i)"
   ]
  },
  {
   "cell_type": "code",
   "execution_count": 33,
   "id": "47b66d92",
   "metadata": {},
   "outputs": [
    {
     "name": "stdout",
     "output_type": "stream",
     "text": [
      "1000\n",
      "2000\n",
      "4000\n",
      "10000\n",
      "3243243\n"
     ]
    }
   ],
   "source": [
    "maaslar = [1000,10000,3243243,2000,3000,4000]\n",
    "# kontrole gelince atla\n",
    "maaslar.sort() #sıralama için\n",
    "for i in maaslar:\n",
    "    if i == 3000:\n",
    "        \n",
    "        continue\n",
    "    print(i)"
   ]
  },
  {
   "cell_type": "code",
   "execution_count": null,
   "id": "5fa5b162",
   "metadata": {},
   "outputs": [],
   "source": [
    "sayi = 1\n",
    "while sayi<10:\n",
    "    sayi= sayi+1\n",
    "    print(sayi)"
   ]
  },
  {
   "cell_type": "code",
   "execution_count": null,
   "id": "8403d5ee",
   "metadata": {},
   "outputs": [],
   "source": [
    "sayi = 1\n",
    "while sayi<10:\n",
    "    sayi= sayi+1\n",
    "    print(sayi)"
   ]
  },
  {
   "cell_type": "code",
   "execution_count": null,
   "id": "2190dc74",
   "metadata": {},
   "outputs": [],
   "source": []
  },
  {
   "cell_type": "code",
   "execution_count": null,
   "id": "d346580b",
   "metadata": {},
   "outputs": [],
   "source": []
  },
  {
   "cell_type": "code",
   "execution_count": null,
   "id": "784b2abd",
   "metadata": {},
   "outputs": [],
   "source": []
  }
 ],
 "metadata": {
  "kernelspec": {
   "display_name": "Python 3 (ipykernel)",
   "language": "python",
   "name": "python3"
  },
  "language_info": {
   "codemirror_mode": {
    "name": "ipython",
    "version": 3
   },
   "file_extension": ".py",
   "mimetype": "text/x-python",
   "name": "python",
   "nbconvert_exporter": "python",
   "pygments_lexer": "ipython3",
   "version": "3.9.15"
  }
 },
 "nbformat": 4,
 "nbformat_minor": 5
}
