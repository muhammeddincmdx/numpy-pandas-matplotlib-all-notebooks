{
 "cells": [
  {
   "cell_type": "code",
   "execution_count": 1,
   "id": "6df0d692",
   "metadata": {},
   "outputs": [
    {
     "data": {
      "text/plain": [
       "[1, 4, 9]"
      ]
     },
     "execution_count": 1,
     "metadata": {},
     "output_type": "execute_result"
    }
   ],
   "source": [
    "a = [1,2,3]\n",
    "b = []\n",
    "\n",
    "for i in a:\n",
    "    b.append(i**2)\n",
    "b"
   ]
  },
  {
   "cell_type": "code",
   "execution_count": 2,
   "id": "d78414f5",
   "metadata": {},
   "outputs": [
    {
     "name": "stdout",
     "output_type": "stream",
     "text": [
      "merhaba\n"
     ]
    }
   ],
   "source": [
    "def mesaj():\n",
    "    print(\"merhaba\")\n",
    "mesaj()"
   ]
  },
  {
   "cell_type": "code",
   "execution_count": 3,
   "id": "4734f77b",
   "metadata": {},
   "outputs": [
    {
     "name": "stdout",
     "output_type": "stream",
     "text": [
      "a\n",
      "11\n"
     ]
    }
   ],
   "source": [
    "for i in [\"a\",11]:\n",
    "    print(i)"
   ]
  },
  {
   "cell_type": "code",
   "execution_count": 4,
   "id": "31dbbe39",
   "metadata": {},
   "outputs": [
    {
     "data": {
      "text/plain": [
       "1"
      ]
     },
     "execution_count": 4,
     "metadata": {},
     "output_type": "execute_result"
    }
   ],
   "source": [
    "a = []\n",
    "for i in [1,2,3,4]:\n",
    "    a.append(i)\n",
    "    \n",
    "a[0]"
   ]
  },
  {
   "cell_type": "code",
   "execution_count": 6,
   "id": "385985f7",
   "metadata": {},
   "outputs": [
    {
     "name": "stdout",
     "output_type": "stream",
     "text": [
      "10\n",
      "20\n",
      "40\n"
     ]
    }
   ],
   "source": [
    "b = [10,20,30,40]\n",
    "for i in b:\n",
    "    if i == 30:\n",
    "        continue\n",
    "    print(i)"
   ]
  },
  {
   "cell_type": "code",
   "execution_count": 7,
   "id": "04ef87f0",
   "metadata": {},
   "outputs": [
    {
     "name": "stdout",
     "output_type": "stream",
     "text": [
      "A\n"
     ]
    }
   ],
   "source": [
    "A = \"*A*\"\n",
    "if type(A) == str:\n",
    "    A = A.strip(\"*\")\n",
    "    print(A)"
   ]
  },
  {
   "cell_type": "code",
   "execution_count": 8,
   "id": "b56d6c63",
   "metadata": {},
   "outputs": [
    {
     "name": "stdout",
     "output_type": "stream",
     "text": [
      "*12*\n"
     ]
    }
   ],
   "source": [
    "A = 12\n",
    " \n",
    "if type(A) == str:\n",
    "    A = A.strip(\"*\")\n",
    "    print(A)\n",
    "else:\n",
    "    A = \"*\" + str(A) + \"*\"\n",
    "    print(A.strip())"
   ]
  },
  {
   "cell_type": "code",
   "execution_count": 18,
   "id": "0caa568c",
   "metadata": {},
   "outputs": [],
   "source": [
    "class veriBilimci():\n",
    "    calisanlar = []\n",
    "    def __init__(self):\n",
    "        self.bildigi_diller= []\n",
    "        self.bolum = \"\"\n",
    "    def dil_ekle(self, yeni_dil):\n",
    "        self.bildigi_diller.append(yeni_dil) # örnek yeni dil ekleme fonksiyonu\n",
    "ali = veriBilimci()\n",
    "ali.bildigi_diller\n",
    "\n",
    "veli = veriBilimci()\n",
    "#veriBilimci.dil_ekle(\"r\") #type error\n",
    "ali.dil_ekle(\"R\")\n",
    "\n",
    "veli.bildigi_diller.append(\"python\")"
   ]
  },
  {
   "cell_type": "code",
   "execution_count": 16,
   "id": "ba09b582",
   "metadata": {},
   "outputs": [
    {
     "data": {
      "text/plain": [
       "['R']"
      ]
     },
     "execution_count": 16,
     "metadata": {},
     "output_type": "execute_result"
    }
   ],
   "source": [
    "ali.bildigi_diller\n"
   ]
  },
  {
   "cell_type": "code",
   "execution_count": 19,
   "id": "676390ac",
   "metadata": {},
   "outputs": [
    {
     "data": {
      "text/plain": [
       "['python']"
      ]
     },
     "execution_count": 19,
     "metadata": {},
     "output_type": "execute_result"
    }
   ],
   "source": [
    "veli.bildigi_diller"
   ]
  },
  {
   "cell_type": "code",
   "execution_count": 22,
   "id": "4e7ce172",
   "metadata": {},
   "outputs": [
    {
     "ename": "AttributeError",
     "evalue": "type object 'veriBilimci' has no attribute 'Programming'",
     "output_type": "error",
     "traceback": [
      "\u001b[1;31m---------------------------------------------------------------------------\u001b[0m",
      "\u001b[1;31mAttributeError\u001b[0m                            Traceback (most recent call last)",
      "Cell \u001b[1;32mIn[22], line 12\u001b[0m\n\u001b[0;32m     10\u001b[0m         \u001b[38;5;28mself\u001b[39m\u001b[38;5;241m.\u001b[39mProgramming \u001b[38;5;241m=\u001b[39m \u001b[38;5;124m\"\u001b[39m\u001b[38;5;124m\"\u001b[39m\n\u001b[0;32m     11\u001b[0m veriBilimci1 \u001b[38;5;241m=\u001b[39m dataScience()\n\u001b[1;32m---> 12\u001b[0m \u001b[43mveriBilimci\u001b[49m\u001b[38;5;241;43m.\u001b[39;49m\u001b[43mProgramming\u001b[49m(\u001b[38;5;124m\"\u001b[39m\u001b[38;5;124manan\u001b[39m\u001b[38;5;124m\"\u001b[39m)\n\u001b[0;32m     13\u001b[0m \u001b[38;5;28;01mclass\u001b[39;00m \u001b[38;5;21;01mMarketing\u001b[39;00m():\n\u001b[0;32m     14\u001b[0m     \u001b[38;5;28;01mdef\u001b[39;00m \u001b[38;5;21m__init__\u001b[39m(\u001b[38;5;28mself\u001b[39m):\n",
      "\u001b[1;31mAttributeError\u001b[0m: type object 'veriBilimci' has no attribute 'Programming'"
     ]
    }
   ],
   "source": [
    "#miras yapıları (inheritance)\n",
    "\n",
    "class Employees():\n",
    "    def __init__(self):\n",
    "        self.firstname = \"\"\n",
    "        self.secondname = \"\"\n",
    "        self.Adress = \"\"\n",
    "class dataScience():\n",
    "    def __init__(self):\n",
    "        self.Programming = \"\"\n",
    "veriBilimci1 = dataScience()\n",
    "veriBilimci1.\n",
    "class Marketing():\n",
    "    def __init__(self):\n",
    "        self.Storytelling = \"\""
   ]
  },
  {
   "cell_type": "code",
   "execution_count": null,
   "id": "d694c226",
   "metadata": {},
   "outputs": [],
   "source": []
  },
  {
   "cell_type": "code",
   "execution_count": 32,
   "id": "518b2ef5",
   "metadata": {},
   "outputs": [
    {
     "name": "stdout",
     "output_type": "stream",
     "text": [
      "konya\n"
     ]
    }
   ],
   "source": [
    "class Employ():\n",
    "    def __init__ (self, firstname,lastname,adress):\n",
    "        self.firstname = firstname\n",
    "        self.lastname = lastname\n",
    "        self.adress = adress\n",
    "ali = Employ(\"ali\",\"ekinci\",\"konya\")\n",
    "print(ali.adress)"
   ]
  },
  {
   "cell_type": "code",
   "execution_count": null,
   "id": "bf850f39",
   "metadata": {},
   "outputs": [],
   "source": [
    "# yan etkisiz fonksiyonlar örnek 1\n",
    "A = 5\n",
    "def impure_sum(b): #saf olmayan toplama\n",
    "    # fonksiyonun bagımlılıgı var disardan etkileniyor\n",
    "    return b+A\n",
    "def pure_sum(a,b)\n",
    "    return a+b\n",
    "    \n",
    "\n"
   ]
  },
  {
   "cell_type": "code",
   "execution_count": null,
   "id": "ca6cfde4",
   "metadata": {},
   "outputs": [],
   "source": [
    "# yan etkisiz fonksiyonlar örnek 2 olumcul yan etkiler\n"
   ]
  },
  {
   "cell_type": "code",
   "execution_count": 1,
   "id": "8446cd8c",
   "metadata": {},
   "outputs": [
    {
     "data": {
      "text/plain": [
       "9"
      ]
     },
     "execution_count": 1,
     "metadata": {},
     "output_type": "execute_result"
    }
   ],
   "source": [
    "# anonymous functions isimsiz func\n",
    "\n",
    "def old_sum(a,b):\n",
    "    return a+ b\n",
    "old_sum(5,4)"
   ]
  },
  {
   "cell_type": "code",
   "execution_count": 3,
   "id": "c1e3be4a",
   "metadata": {},
   "outputs": [
    {
     "data": {
      "text/plain": [
       "9"
      ]
     },
     "execution_count": 3,
     "metadata": {},
     "output_type": "execute_result"
    }
   ],
   "source": [
    "newsum = lambda a,b : a+b\n",
    "newsum(4,5)"
   ]
  },
  {
   "cell_type": "code",
   "execution_count": 6,
   "id": "b88cd16a",
   "metadata": {},
   "outputs": [
    {
     "data": {
      "text/plain": [
       "[('b', 3), ('a', 9), ('d', 18), ('c', 5)]"
      ]
     },
     "execution_count": 6,
     "metadata": {},
     "output_type": "execute_result"
    }
   ],
   "source": [
    "sirasiz_list = [(\"b\",3),(\"a\",9),(\"d\",18),(\"c\",5)]\n",
    "sirasiz_list"
   ]
  },
  {
   "cell_type": "code",
   "execution_count": 8,
   "id": "fce67631",
   "metadata": {},
   "outputs": [
    {
     "data": {
      "text/plain": [
       "[('b', 3), ('c', 5), ('a', 9), ('d', 18)]"
      ]
     },
     "execution_count": 8,
     "metadata": {},
     "output_type": "execute_result"
    }
   ],
   "source": [
    "sorted(sirasiz_list, key = lambda x: x[1]) # sort fonksiyon # bir liste verdik verilen xin birincisi yaz"
   ]
  },
  {
   "cell_type": "code",
   "execution_count": 13,
   "id": "a22e9776",
   "metadata": {},
   "outputs": [
    {
     "name": "stdout",
     "output_type": "stream",
     "text": [
      "[2, 6, 12, 20]\n"
     ]
    }
   ],
   "source": [
    "# Vectorel operations\n",
    "#oop\n",
    "a = [1,2,3,4]\n",
    "b = [2,3,4,5]\n",
    "\n",
    "ab = []\n",
    "#range(0,len[a]) # o dan a nın eleman sayısı kadar gezin\n",
    "for i in range(0,len(a)):\n",
    "    ab.append(a[i]*b[i])\n",
    "print(ab)"
   ]
  },
  {
   "cell_type": "code",
   "execution_count": 18,
   "id": "529c768b",
   "metadata": {},
   "outputs": [
    {
     "name": "stdout",
     "output_type": "stream",
     "text": [
      "[ 2  6 12 20]\n"
     ]
    }
   ],
   "source": [
    "import numpy as np\n",
    "\n",
    "a = np.array([1,2,3,4])\n",
    "b = np.array([2,3,4,5])\n",
    "\n",
    "c = a*b\n",
    "print(c)"
   ]
  },
  {
   "cell_type": "code",
   "execution_count": 20,
   "id": "b8859b12",
   "metadata": {},
   "outputs": [
    {
     "name": "stdout",
     "output_type": "stream",
     "text": [
      "11\n",
      "12\n",
      "13\n",
      "14\n",
      "15\n"
     ]
    }
   ],
   "source": [
    "# map & filter & reduce\n",
    "liste = [1,2,3,4,5]  # amac her elemana 10 eklemek\n",
    "# oop\n",
    "for i in liste:\n",
    "    print(i+10)"
   ]
  },
  {
   "cell_type": "code",
   "execution_count": 22,
   "id": "b969e9b6",
   "metadata": {},
   "outputs": [
    {
     "data": {
      "text/plain": [
       "[11, 12, 13, 14, 15]"
      ]
     },
     "execution_count": 22,
     "metadata": {},
     "output_type": "execute_result"
    }
   ],
   "source": [
    "list(map(lambda x: x+10, liste))"
   ]
  },
  {
   "cell_type": "code",
   "execution_count": 23,
   "id": "e350046d",
   "metadata": {},
   "outputs": [],
   "source": [
    "# verilen vektörün içerisinde tanımlanan fonksiyonu çağırma\n"
   ]
  },
  {
   "cell_type": "code",
   "execution_count": 24,
   "id": "989a90c9",
   "metadata": {},
   "outputs": [
    {
     "data": {
      "text/plain": [
       "[2, 4, 6, 8, 10]"
      ]
     },
     "execution_count": 24,
     "metadata": {},
     "output_type": "execute_result"
    }
   ],
   "source": [
    "#filter\n",
    "# ciftlere ulas\n",
    "liste = [1,2,3,4,5,6,7,8,9,10]\n",
    "list(filter(lambda x: x%2 == 0, liste)) # burda true dönenleri listeye getirdi\n"
   ]
  },
  {
   "cell_type": "code",
   "execution_count": 27,
   "id": "806d82d4",
   "metadata": {},
   "outputs": [
    {
     "data": {
      "text/plain": [
       "10"
      ]
     },
     "execution_count": 27,
     "metadata": {},
     "output_type": "execute_result"
    }
   ],
   "source": [
    "# reduce indirgeme yapar\n",
    "from functools import reduce\n",
    "liste =[1,2,3,4]\n",
    "reduce(lambda a,b : a+b, liste)"
   ]
  },
  {
   "cell_type": "code",
   "execution_count": 29,
   "id": "9565e18c",
   "metadata": {},
   "outputs": [
    {
     "name": "stdout",
     "output_type": "stream",
     "text": [
      "payda sifir olamaz\n"
     ]
    }
   ],
   "source": [
    "#istisnalar\n",
    "a = 10\n",
    "b = 0\n",
    "try :\n",
    "    print(a/b)\n",
    "except ZeroDivisionError: # bu tipte hata gelirse bunu yazdır\n",
    "    print(\"payda sifir olamaz\")"
   ]
  },
  {
   "cell_type": "code",
   "execution_count": 32,
   "id": "8b367989",
   "metadata": {},
   "outputs": [
    {
     "name": "stdout",
     "output_type": "stream",
     "text": [
      "tipler farklı\n"
     ]
    }
   ],
   "source": [
    "a = 10\n",
    "b = \"c\"\n",
    "\n",
    "try:\n",
    "    print(a+b)\n",
    "except TypeError:\n",
    "    print(\"tipler farklı\")"
   ]
  },
  {
   "cell_type": "code",
   "execution_count": 34,
   "id": "6646ad97",
   "metadata": {},
   "outputs": [
    {
     "data": {
      "text/plain": [
       "24"
      ]
     },
     "execution_count": 34,
     "metadata": {},
     "output_type": "execute_result"
    }
   ],
   "source": [
    "from functools import reduce\n",
    "a = [1,2,3,4]\n",
    "reduce(lambda a,b: a*b,a)"
   ]
  },
  {
   "cell_type": "code",
   "execution_count": 35,
   "id": "f35c945e",
   "metadata": {},
   "outputs": [
    {
     "data": {
      "text/plain": [
       "[3, 9, 15]"
      ]
     },
     "execution_count": 35,
     "metadata": {},
     "output_type": "execute_result"
    }
   ],
   "source": [
    "A = [[1,2],[3,4],[5,6]]\n",
    "list(map(lambda x: x[0]*3,A))"
   ]
  },
  {
   "cell_type": "code",
   "execution_count": 39,
   "id": "fa70db73",
   "metadata": {},
   "outputs": [
    {
     "data": {
      "text/plain": [
       "[1, 4, 9, 16]"
      ]
     },
     "execution_count": 39,
     "metadata": {},
     "output_type": "execute_result"
    }
   ],
   "source": [
    "liste = [1,2,3,4]\n",
    "list(map (lambda x: x**2,liste))"
   ]
  },
  {
   "cell_type": "code",
   "execution_count": 40,
   "id": "e93e193a",
   "metadata": {},
   "outputs": [
    {
     "name": "stdout",
     "output_type": "stream",
     "text": [
      "[1.0, 2.0, 3.0, 4.0, 5.0]\n"
     ]
    }
   ],
   "source": [
    "A = [1,2,3,4,5]\n",
    "if type(A) == 0:\n",
    "    print(\"gecersiz\")\n",
    "else:\n",
    "    print(list(map(lambda x : x/1,A)))"
   ]
  },
  {
   "cell_type": "code",
   "execution_count": 41,
   "id": "fde5521b",
   "metadata": {},
   "outputs": [
    {
     "data": {
      "text/plain": [
       "1.0"
      ]
     },
     "execution_count": 41,
     "metadata": {},
     "output_type": "execute_result"
    }
   ],
   "source": [
    "from functools import reduce\n",
    "reduce(lambda a,b : a/b, [8,4,2])"
   ]
  },
  {
   "cell_type": "code",
   "execution_count": 42,
   "id": "aecdb23a",
   "metadata": {},
   "outputs": [
    {
     "data": {
      "text/plain": [
       "0.0"
      ]
     },
     "execution_count": 42,
     "metadata": {},
     "output_type": "execute_result"
    }
   ],
   "source": [
    "10/5*0"
   ]
  },
  {
   "cell_type": "code",
   "execution_count": 43,
   "id": "f57455ce",
   "metadata": {},
   "outputs": [
    {
     "data": {
      "text/plain": [
       "array([3, 3, 3])"
      ]
     },
     "execution_count": 43,
     "metadata": {},
     "output_type": "execute_result"
    }
   ],
   "source": [
    "import numpy as np\n",
    "a = np.array([1,1,1])\n",
    "b = np.array([2])\n",
    "a+b"
   ]
  },
  {
   "cell_type": "code",
   "execution_count": 44,
   "id": "6823bcdc",
   "metadata": {},
   "outputs": [
    {
     "data": {
      "text/plain": [
       "['pazartesi']"
      ]
     },
     "execution_count": 44,
     "metadata": {},
     "output_type": "execute_result"
    }
   ],
   "source": [
    "days = [\"pazartesi\",\"sali\",\"carsamba\",\"persembe\",\"cuma\"]\n",
    "\n",
    "list(filter(lambda x : len(x)> 8,days))"
   ]
  },
  {
   "cell_type": "code",
   "execution_count": null,
   "id": "37e45839",
   "metadata": {},
   "outputs": [],
   "source": []
  },
  {
   "cell_type": "code",
   "execution_count": 47,
   "id": "0b2c7fd9",
   "metadata": {},
   "outputs": [
    {
     "data": {
      "text/plain": [
       "'a4b'"
      ]
     },
     "execution_count": 47,
     "metadata": {},
     "output_type": "execute_result"
    }
   ],
   "source": [
    "from functools import reduce\n",
    "reduce(lambda a,b: a+b,[\"a\",\"4\",\"b\"])"
   ]
  },
  {
   "cell_type": "code",
   "execution_count": 49,
   "id": "b4c280e8",
   "metadata": {},
   "outputs": [
    {
     "name": "stdout",
     "output_type": "stream",
     "text": [
      "[['ali', 'veli', 'deli'], [1, 2, 3]]\n"
     ]
    }
   ],
   "source": [
    "a = [\"ali\",\"veli\",\"deli\"]\n",
    "b = [1,2,3]\n",
    "ab = [a,b]\n",
    "print(ab)"
   ]
  },
  {
   "cell_type": "code",
   "execution_count": 50,
   "id": "447b4f9e",
   "metadata": {},
   "outputs": [
    {
     "name": "stdout",
     "output_type": "stream",
     "text": [
      "[-2, -1, 0]\n"
     ]
    }
   ],
   "source": [
    "for i in ab:\n",
    "    if type(i[0]) == int:\n",
    "        print(list(map(lambda x: x-3,i)))"
   ]
  },
  {
   "cell_type": "code",
   "execution_count": 51,
   "id": "e1e7964f",
   "metadata": {},
   "outputs": [
    {
     "data": {
      "text/plain": [
       "'VBO'"
      ]
     },
     "execution_count": 51,
     "metadata": {},
     "output_type": "execute_result"
    }
   ],
   "source": [
    "from functools import reduce\n",
    "A = [\"Veri\",\"Bilimi\",\"Okulu\"]\n",
    "reduce(lambda a,b : a+b,list(map(lambda x: x[0], A)))"
   ]
  },
  {
   "cell_type": "code",
   "execution_count": 5,
   "id": "33f75df4",
   "metadata": {},
   "outputs": [
    {
     "data": {
      "text/plain": [
       "array([[ 0,  1,  2,  3],\n",
       "       [ 4,  5,  6,  7],\n",
       "       [ 8,  9, 10, 11]])"
      ]
     },
     "execution_count": 5,
     "metadata": {},
     "output_type": "execute_result"
    }
   ],
   "source": [
    "import numpy as np\n",
    "a = np.arange(12).reshape(3,4)\n",
    "a"
   ]
  },
  {
   "cell_type": "code",
   "execution_count": 6,
   "id": "21ed10e1",
   "metadata": {},
   "outputs": [
    {
     "data": {
      "text/plain": [
       "array([[0, 1, 2, 3]])"
      ]
     },
     "execution_count": 6,
     "metadata": {},
     "output_type": "execute_result"
    }
   ],
   "source": [
    "a[0:1]"
   ]
  },
  {
   "cell_type": "code",
   "execution_count": null,
   "id": "92d5020c",
   "metadata": {},
   "outputs": [],
   "source": []
  }
 ],
 "metadata": {
  "kernelspec": {
   "display_name": "Python 3 (ipykernel)",
   "language": "python",
   "name": "python3"
  },
  "language_info": {
   "codemirror_mode": {
    "name": "ipython",
    "version": 3
   },
   "file_extension": ".py",
   "mimetype": "text/x-python",
   "name": "python",
   "nbconvert_exporter": "python",
   "pygments_lexer": "ipython3",
   "version": "3.9.15"
  }
 },
 "nbformat": 4,
 "nbformat_minor": 5
}
