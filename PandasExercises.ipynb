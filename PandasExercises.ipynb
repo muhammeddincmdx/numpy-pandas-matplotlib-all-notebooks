{
 "cells": [
  {
   "cell_type": "code",
   "execution_count": 66,
   "id": "7b9231b8",
   "metadata": {},
   "outputs": [],
   "source": [
    "import numpy as np\n",
    "import pandas as pd"
   ]
  },
  {
   "cell_type": "markdown",
   "id": "7aad12a5",
   "metadata": {},
   "source": [
    "## 1-Write a Pandas program to create and display a one-dimensional array-like object containing an array of data."
   ]
  },
  {
   "cell_type": "code",
   "execution_count": 67,
   "id": "fe5db85a",
   "metadata": {},
   "outputs": [],
   "source": [
    "data = pd.Series([2,4,6,8])"
   ]
  },
  {
   "cell_type": "code",
   "execution_count": 68,
   "id": "38bcf25c",
   "metadata": {},
   "outputs": [
    {
     "data": {
      "text/plain": [
       "0    2\n",
       "1    4\n",
       "2    6\n",
       "3    8\n",
       "dtype: int64"
      ]
     },
     "execution_count": 68,
     "metadata": {},
     "output_type": "execute_result"
    }
   ],
   "source": [
    "data"
   ]
  },
  {
   "cell_type": "markdown",
   "id": "517b725e",
   "metadata": {},
   "source": [
    "## 2- Write a Pandas program to convert a Panda module Series to Python list and it's type"
   ]
  },
  {
   "cell_type": "code",
   "execution_count": 69,
   "id": "8b12c122",
   "metadata": {},
   "outputs": [
    {
     "data": {
      "text/plain": [
       "pandas.core.series.Series"
      ]
     },
     "execution_count": 69,
     "metadata": {},
     "output_type": "execute_result"
    }
   ],
   "source": [
    "type(data)"
   ]
  },
  {
   "cell_type": "code",
   "execution_count": 70,
   "id": "e9d12d46",
   "metadata": {},
   "outputs": [
    {
     "data": {
      "text/plain": [
       "[2, 4, 6, 8]"
      ]
     },
     "execution_count": 70,
     "metadata": {},
     "output_type": "execute_result"
    }
   ],
   "source": [
    "data.tolist()"
   ]
  },
  {
   "cell_type": "code",
   "execution_count": 71,
   "id": "869ea595",
   "metadata": {},
   "outputs": [
    {
     "data": {
      "text/plain": [
       "list"
      ]
     },
     "execution_count": 71,
     "metadata": {},
     "output_type": "execute_result"
    }
   ],
   "source": [
    "type(data.tolist())"
   ]
  },
  {
   "cell_type": "markdown",
   "id": "c2a4bd61",
   "metadata": {},
   "source": [
    "## 3 -Write a Pandas program to add, subtract, multiple and divide two Pandas Series."
   ]
  },
  {
   "cell_type": "code",
   "execution_count": 72,
   "id": "afeb197e",
   "metadata": {},
   "outputs": [],
   "source": [
    "data1 = pd.Series([2,4,6,8,10])\n",
    "data2 = pd.Series([1,3,5,7,9])"
   ]
  },
  {
   "cell_type": "markdown",
   "id": "e2eae360",
   "metadata": {},
   "source": [
    "data1+data2"
   ]
  },
  {
   "cell_type": "code",
   "execution_count": 73,
   "id": "3f874915",
   "metadata": {},
   "outputs": [
    {
     "data": {
      "text/plain": [
       "0     2\n",
       "1    12\n",
       "2    30\n",
       "3    56\n",
       "4    90\n",
       "dtype: int64"
      ]
     },
     "execution_count": 73,
     "metadata": {},
     "output_type": "execute_result"
    }
   ],
   "source": [
    "data1*data2"
   ]
  },
  {
   "cell_type": "code",
   "execution_count": 74,
   "id": "a54a1ca7",
   "metadata": {},
   "outputs": [
    {
     "data": {
      "text/plain": [
       "0    2.000000\n",
       "1    1.333333\n",
       "2    1.200000\n",
       "3    1.142857\n",
       "4    1.111111\n",
       "dtype: float64"
      ]
     },
     "execution_count": 74,
     "metadata": {},
     "output_type": "execute_result"
    }
   ],
   "source": [
    "data1/data2"
   ]
  },
  {
   "cell_type": "markdown",
   "id": "1c1edd7b",
   "metadata": {},
   "source": [
    "## 4 Write a Pandas program to compare the elements of the two Pandas Series"
   ]
  },
  {
   "cell_type": "code",
   "execution_count": 75,
   "id": "a9a2ad68",
   "metadata": {},
   "outputs": [],
   "source": [
    "s1 = pd.Series([2,4,6,8,10])\n",
    "s2 = pd.Series([1,3,5,7,10])\n"
   ]
  },
  {
   "cell_type": "code",
   "execution_count": 76,
   "id": "d218c00d",
   "metadata": {},
   "outputs": [
    {
     "data": {
      "text/plain": [
       "0    False\n",
       "1    False\n",
       "2    False\n",
       "3    False\n",
       "4     True\n",
       "dtype: bool"
      ]
     },
     "execution_count": 76,
     "metadata": {},
     "output_type": "execute_result"
    }
   ],
   "source": [
    "s1 == s2"
   ]
  },
  {
   "cell_type": "markdown",
   "id": "984d6459",
   "metadata": {},
   "source": [
    "##  5. Write a Pandas program to convert a dictionary to a Pandas series"
   ]
  },
  {
   "cell_type": "code",
   "execution_count": 77,
   "id": "abc17185",
   "metadata": {},
   "outputs": [],
   "source": [
    "originalDictionary = {\"a\":100,\"b\":200,\"c\":300,\"d\":400,\"e\":800}"
   ]
  },
  {
   "cell_type": "code",
   "execution_count": 78,
   "id": "84b6118a",
   "metadata": {},
   "outputs": [],
   "source": [
    "convertToPandas = pd.Series(originalDictionary)"
   ]
  },
  {
   "cell_type": "code",
   "execution_count": 79,
   "id": "2fa575d3",
   "metadata": {},
   "outputs": [
    {
     "data": {
      "text/plain": [
       "a    100\n",
       "b    200\n",
       "c    300\n",
       "d    400\n",
       "e    800\n",
       "dtype: int64"
      ]
     },
     "execution_count": 79,
     "metadata": {},
     "output_type": "execute_result"
    }
   ],
   "source": [
    "convertToPandas"
   ]
  },
  {
   "cell_type": "code",
   "execution_count": 80,
   "id": "487b9774",
   "metadata": {},
   "outputs": [
    {
     "data": {
      "text/plain": [
       "pandas.core.series.Series"
      ]
     },
     "execution_count": 80,
     "metadata": {},
     "output_type": "execute_result"
    }
   ],
   "source": [
    "type(convertToPandas)"
   ]
  },
  {
   "cell_type": "markdown",
   "id": "25b91bdc",
   "metadata": {},
   "source": [
    "## 6. Write a Pandas program to convert a NumPy array to a Pandas series"
   ]
  },
  {
   "cell_type": "code",
   "execution_count": 81,
   "id": "8cac9c15",
   "metadata": {},
   "outputs": [],
   "source": [
    "numpyArray = [10,20,30,40,50]\n",
    "numpyToPandas = pd.Series(numpyArray)"
   ]
  },
  {
   "cell_type": "code",
   "execution_count": 82,
   "id": "19ef655c",
   "metadata": {},
   "outputs": [
    {
     "data": {
      "text/plain": [
       "0    10\n",
       "1    20\n",
       "2    30\n",
       "3    40\n",
       "4    50\n",
       "dtype: int64"
      ]
     },
     "execution_count": 82,
     "metadata": {},
     "output_type": "execute_result"
    }
   ],
   "source": [
    "numpyToPandas"
   ]
  },
  {
   "cell_type": "code",
   "execution_count": 83,
   "id": "66d614a0",
   "metadata": {},
   "outputs": [
    {
     "data": {
      "text/plain": [
       "pandas.core.series.Series"
      ]
     },
     "execution_count": 83,
     "metadata": {},
     "output_type": "execute_result"
    }
   ],
   "source": [
    "type(numpyToPandas)"
   ]
  },
  {
   "cell_type": "markdown",
   "id": "4d56739d",
   "metadata": {},
   "source": [
    "## 7. Write a Pandas program to change the data type of given a column or a Series."
   ]
  },
  {
   "cell_type": "code",
   "execution_count": 84,
   "id": "52a49403",
   "metadata": {},
   "outputs": [],
   "source": [
    "s1 = pd.Series([\"100\",\"200\",\"python\",\"300.12\",\"400\"])"
   ]
  },
  {
   "cell_type": "code",
   "execution_count": 85,
   "id": "aea3ac6b",
   "metadata": {},
   "outputs": [],
   "source": [
    "s2 = pd.to_numeric(s1,errors = \"coerce\")"
   ]
  },
  {
   "cell_type": "code",
   "execution_count": 86,
   "id": "45c4fd89",
   "metadata": {},
   "outputs": [
    {
     "data": {
      "text/plain": [
       "0    100.00\n",
       "1    200.00\n",
       "2       NaN\n",
       "3    300.12\n",
       "4    400.00\n",
       "dtype: float64"
      ]
     },
     "execution_count": 86,
     "metadata": {},
     "output_type": "execute_result"
    }
   ],
   "source": [
    "s2"
   ]
  },
  {
   "cell_type": "markdown",
   "id": "44c84f4f",
   "metadata": {},
   "source": [
    "## 8. Write a Pandas program to convert the first column of a DataFrame as a Series"
   ]
  },
  {
   "cell_type": "code",
   "execution_count": 87,
   "id": "891c0700",
   "metadata": {},
   "outputs": [],
   "source": [
    "d = {\"col1\":[1,2,3,4,7,11],\"col2\":[4,5,6,9,5,0],\"col3\":[7,5,8,12,1,11]}"
   ]
  },
  {
   "cell_type": "code",
   "execution_count": 88,
   "id": "f0b16d0e",
   "metadata": {},
   "outputs": [
    {
     "data": {
      "text/plain": [
       "{'col1': [1, 2, 3, 4, 7, 11],\n",
       " 'col2': [4, 5, 6, 9, 5, 0],\n",
       " 'col3': [7, 5, 8, 12, 1, 11]}"
      ]
     },
     "execution_count": 88,
     "metadata": {},
     "output_type": "execute_result"
    }
   ],
   "source": [
    "d"
   ]
  },
  {
   "cell_type": "code",
   "execution_count": 89,
   "id": "c3b7c730",
   "metadata": {},
   "outputs": [],
   "source": [
    "df = pd.DataFrame(data = d)"
   ]
  },
  {
   "cell_type": "code",
   "execution_count": 90,
   "id": "e39ce8ba",
   "metadata": {},
   "outputs": [
    {
     "data": {
      "text/html": [
       "<div>\n",
       "<style scoped>\n",
       "    .dataframe tbody tr th:only-of-type {\n",
       "        vertical-align: middle;\n",
       "    }\n",
       "\n",
       "    .dataframe tbody tr th {\n",
       "        vertical-align: top;\n",
       "    }\n",
       "\n",
       "    .dataframe thead th {\n",
       "        text-align: right;\n",
       "    }\n",
       "</style>\n",
       "<table border=\"1\" class=\"dataframe\">\n",
       "  <thead>\n",
       "    <tr style=\"text-align: right;\">\n",
       "      <th></th>\n",
       "      <th>col1</th>\n",
       "      <th>col2</th>\n",
       "      <th>col3</th>\n",
       "    </tr>\n",
       "  </thead>\n",
       "  <tbody>\n",
       "    <tr>\n",
       "      <th>0</th>\n",
       "      <td>1</td>\n",
       "      <td>4</td>\n",
       "      <td>7</td>\n",
       "    </tr>\n",
       "    <tr>\n",
       "      <th>1</th>\n",
       "      <td>2</td>\n",
       "      <td>5</td>\n",
       "      <td>5</td>\n",
       "    </tr>\n",
       "    <tr>\n",
       "      <th>2</th>\n",
       "      <td>3</td>\n",
       "      <td>6</td>\n",
       "      <td>8</td>\n",
       "    </tr>\n",
       "    <tr>\n",
       "      <th>3</th>\n",
       "      <td>4</td>\n",
       "      <td>9</td>\n",
       "      <td>12</td>\n",
       "    </tr>\n",
       "    <tr>\n",
       "      <th>4</th>\n",
       "      <td>7</td>\n",
       "      <td>5</td>\n",
       "      <td>1</td>\n",
       "    </tr>\n",
       "    <tr>\n",
       "      <th>5</th>\n",
       "      <td>11</td>\n",
       "      <td>0</td>\n",
       "      <td>11</td>\n",
       "    </tr>\n",
       "  </tbody>\n",
       "</table>\n",
       "</div>"
      ],
      "text/plain": [
       "   col1  col2  col3\n",
       "0     1     4     7\n",
       "1     2     5     5\n",
       "2     3     6     8\n",
       "3     4     9    12\n",
       "4     7     5     1\n",
       "5    11     0    11"
      ]
     },
     "execution_count": 90,
     "metadata": {},
     "output_type": "execute_result"
    }
   ],
   "source": [
    "df"
   ]
  },
  {
   "cell_type": "code",
   "execution_count": 91,
   "id": "10e76fdd",
   "metadata": {},
   "outputs": [
    {
     "ename": "AttributeError",
     "evalue": "'DataFrame' object has no attribute 'ix'",
     "output_type": "error",
     "traceback": [
      "\u001b[1;31m---------------------------------------------------------------------------\u001b[0m",
      "\u001b[1;31mAttributeError\u001b[0m                            Traceback (most recent call last)",
      "Input \u001b[1;32mIn [91]\u001b[0m, in \u001b[0;36m<cell line: 1>\u001b[1;34m()\u001b[0m\n\u001b[1;32m----> 1\u001b[0m k1 \u001b[38;5;241m=\u001b[39m \u001b[43mdf\u001b[49m\u001b[38;5;241;43m.\u001b[39;49m\u001b[43mix\u001b[49m[:,\u001b[38;5;241m0\u001b[39m]\n",
      "File \u001b[1;32m~\\anaconda3\\lib\\site-packages\\pandas\\core\\generic.py:5575\u001b[0m, in \u001b[0;36mNDFrame.__getattr__\u001b[1;34m(self, name)\u001b[0m\n\u001b[0;32m   5568\u001b[0m \u001b[38;5;28;01mif\u001b[39;00m (\n\u001b[0;32m   5569\u001b[0m     name \u001b[38;5;129;01mnot\u001b[39;00m \u001b[38;5;129;01min\u001b[39;00m \u001b[38;5;28mself\u001b[39m\u001b[38;5;241m.\u001b[39m_internal_names_set\n\u001b[0;32m   5570\u001b[0m     \u001b[38;5;129;01mand\u001b[39;00m name \u001b[38;5;129;01mnot\u001b[39;00m \u001b[38;5;129;01min\u001b[39;00m \u001b[38;5;28mself\u001b[39m\u001b[38;5;241m.\u001b[39m_metadata\n\u001b[0;32m   5571\u001b[0m     \u001b[38;5;129;01mand\u001b[39;00m name \u001b[38;5;129;01mnot\u001b[39;00m \u001b[38;5;129;01min\u001b[39;00m \u001b[38;5;28mself\u001b[39m\u001b[38;5;241m.\u001b[39m_accessors\n\u001b[0;32m   5572\u001b[0m     \u001b[38;5;129;01mand\u001b[39;00m \u001b[38;5;28mself\u001b[39m\u001b[38;5;241m.\u001b[39m_info_axis\u001b[38;5;241m.\u001b[39m_can_hold_identifiers_and_holds_name(name)\n\u001b[0;32m   5573\u001b[0m ):\n\u001b[0;32m   5574\u001b[0m     \u001b[38;5;28;01mreturn\u001b[39;00m \u001b[38;5;28mself\u001b[39m[name]\n\u001b[1;32m-> 5575\u001b[0m \u001b[38;5;28;01mreturn\u001b[39;00m \u001b[38;5;28;43mobject\u001b[39;49m\u001b[38;5;241;43m.\u001b[39;49m\u001b[38;5;21;43m__getattribute__\u001b[39;49m\u001b[43m(\u001b[49m\u001b[38;5;28;43mself\u001b[39;49m\u001b[43m,\u001b[49m\u001b[43m \u001b[49m\u001b[43mname\u001b[49m\u001b[43m)\u001b[49m\n",
      "\u001b[1;31mAttributeError\u001b[0m: 'DataFrame' object has no attribute 'ix'"
     ]
    }
   ],
   "source": [
    " k1 = df.ix[:,0]  ## hata veriyor"
   ]
  },
  {
   "cell_type": "markdown",
   "id": "7867adff",
   "metadata": {},
   "source": [
    "## 9. Write a Pandas program to convert a given Series to an array."
   ]
  },
  {
   "cell_type": "code",
   "execution_count": 92,
   "id": "0ed4412e",
   "metadata": {},
   "outputs": [],
   "source": [
    "s1 = pd.Series([\"100\",\"200\",\"python\",\"300.12\",\"400\"])"
   ]
  },
  {
   "cell_type": "code",
   "execution_count": 93,
   "id": "88057e42",
   "metadata": {},
   "outputs": [],
   "source": [
    "s1ToArray = np.array(s1)"
   ]
  },
  {
   "cell_type": "code",
   "execution_count": 94,
   "id": "b6c46670",
   "metadata": {},
   "outputs": [
    {
     "data": {
      "text/plain": [
       "array(['100', '200', 'python', '300.12', '400'], dtype=object)"
      ]
     },
     "execution_count": 94,
     "metadata": {},
     "output_type": "execute_result"
    }
   ],
   "source": [
    "s1ToArray"
   ]
  },
  {
   "cell_type": "code",
   "execution_count": 95,
   "id": "c8b10891",
   "metadata": {},
   "outputs": [
    {
     "data": {
      "text/plain": [
       "numpy.ndarray"
      ]
     },
     "execution_count": 95,
     "metadata": {},
     "output_type": "execute_result"
    }
   ],
   "source": [
    "type(s1ToArray)"
   ]
  },
  {
   "cell_type": "markdown",
   "id": "3793289f",
   "metadata": {},
   "source": [
    "## 10. Write a Pandas program to convert Series of lists to one Series"
   ]
  },
  {
   "cell_type": "code",
   "execution_count": 96,
   "id": "6c23a08d",
   "metadata": {},
   "outputs": [],
   "source": [
    "## simpleSeries = {[\"Red\",\"Green\",\"White\"],[\"Red\",\"Black\"],[\"Yellow\"]}"
   ]
  },
  {
   "cell_type": "code",
   "execution_count": 97,
   "id": "781602a2",
   "metadata": {},
   "outputs": [],
   "source": [
    "s = pd.Series([['Red','Green','White'],['Red','Black'],['Yellow']])"
   ]
  },
  {
   "cell_type": "code",
   "execution_count": 98,
   "id": "6b0f85f3",
   "metadata": {},
   "outputs": [
    {
     "data": {
      "text/plain": [
       "0    [Red, Green, White]\n",
       "1           [Red, Black]\n",
       "2               [Yellow]\n",
       "dtype: object"
      ]
     },
     "execution_count": 98,
     "metadata": {},
     "output_type": "execute_result"
    }
   ],
   "source": [
    "s"
   ]
  },
  {
   "cell_type": "code",
   "execution_count": 99,
   "id": "0ee053a7",
   "metadata": {},
   "outputs": [],
   "source": [
    "s = s.apply(pd.Series).stack().reset_index(drop = True)"
   ]
  },
  {
   "cell_type": "code",
   "execution_count": 100,
   "id": "e689bec5",
   "metadata": {},
   "outputs": [
    {
     "data": {
      "text/plain": [
       "0       Red\n",
       "1     Green\n",
       "2     White\n",
       "3       Red\n",
       "4     Black\n",
       "5    Yellow\n",
       "dtype: object"
      ]
     },
     "execution_count": 100,
     "metadata": {},
     "output_type": "execute_result"
    }
   ],
   "source": [
    "s"
   ]
  },
  {
   "cell_type": "code",
   "execution_count": 101,
   "id": "6a38331b",
   "metadata": {},
   "outputs": [
    {
     "data": {
      "text/plain": [
       "pandas.core.series.Series"
      ]
     },
     "execution_count": 101,
     "metadata": {},
     "output_type": "execute_result"
    }
   ],
   "source": [
    "type(s)"
   ]
  },
  {
   "cell_type": "markdown",
   "id": "c9b45bf4",
   "metadata": {},
   "source": [
    "## Write a Pandas program to sort a given Series sort = sınıflandırma, cins, sıralama"
   ]
  },
  {
   "cell_type": "code",
   "execution_count": 102,
   "id": "1849009d",
   "metadata": {},
   "outputs": [],
   "source": [
    "s = pd.Series([\"100\",\"200\",\"python\",\"300.12\",\"400\"])"
   ]
  },
  {
   "cell_type": "code",
   "execution_count": 103,
   "id": "6e4fc1aa",
   "metadata": {},
   "outputs": [],
   "source": [
    "new_s = pd.Series(s).sort_values()"
   ]
  },
  {
   "cell_type": "code",
   "execution_count": 104,
   "id": "b6e3b377",
   "metadata": {},
   "outputs": [
    {
     "data": {
      "text/plain": [
       "0       100\n",
       "1       200\n",
       "3    300.12\n",
       "4       400\n",
       "2    python\n",
       "dtype: object"
      ]
     },
     "execution_count": 104,
     "metadata": {},
     "output_type": "execute_result"
    }
   ],
   "source": [
    "new_s"
   ]
  },
  {
   "cell_type": "markdown",
   "id": "3e85158f",
   "metadata": {},
   "source": [
    "## 12. Write a Pandas program to add some data to an existing Series."
   ]
  },
  {
   "cell_type": "code",
   "execution_count": 105,
   "id": "190cdabb",
   "metadata": {},
   "outputs": [],
   "source": [
    "s = pd.Series([\"100\",\"200\",\"python\",\"300.12\",\"400\"])"
   ]
  },
  {
   "cell_type": "code",
   "execution_count": 106,
   "id": "cf44c8d3",
   "metadata": {},
   "outputs": [],
   "source": [
    "s1 = pd.Series([\"500\",\"php\"])"
   ]
  },
  {
   "cell_type": "code",
   "execution_count": 108,
   "id": "069f37ba",
   "metadata": {},
   "outputs": [
    {
     "data": {
      "text/plain": [
       "0       100\n",
       "1       200\n",
       "2    python\n",
       "3    300.12\n",
       "4       400\n",
       "0       500\n",
       "1       php\n",
       "dtype: object"
      ]
     },
     "execution_count": 108,
     "metadata": {},
     "output_type": "execute_result"
    }
   ],
   "source": [
    "pd.concat([s,s1])"
   ]
  },
  {
   "cell_type": "markdown",
   "id": "73472fc2",
   "metadata": {},
   "source": [
    "##  13. Write a Pandas program to create a subset of a given series based on value and condition sunset alt küme"
   ]
  },
  {
   "cell_type": "code",
   "execution_count": 110,
   "id": "892de6e3",
   "metadata": {},
   "outputs": [],
   "source": [
    "s = pd.Series([0,1,2,3,4,5,6,7,8,9,10])"
   ]
  },
  {
   "cell_type": "code",
   "execution_count": 112,
   "id": "f9a3dfa5",
   "metadata": {},
   "outputs": [],
   "source": [
    "ns = s[s<6]"
   ]
  },
  {
   "cell_type": "code",
   "execution_count": 113,
   "id": "82a2c258",
   "metadata": {},
   "outputs": [
    {
     "data": {
      "text/plain": [
       "0    0\n",
       "1    1\n",
       "2    2\n",
       "3    3\n",
       "4    4\n",
       "5    5\n",
       "dtype: int64"
      ]
     },
     "execution_count": 113,
     "metadata": {},
     "output_type": "execute_result"
    }
   ],
   "source": [
    "ns"
   ]
  },
  {
   "cell_type": "markdown",
   "id": "2d68324b",
   "metadata": {},
   "source": [
    "## 14. Write a Pandas program to change the order of index of a given series. Go to the editor\n",
    "## Sample Output:\n",
    "Original Data Series:\n",
    "A 1\n",
    "B 2\n",
    "C 3\n",
    "D 4\n",
    "E 5\n"
   ]
  },
  {
   "cell_type": "code",
   "execution_count": 114,
   "id": "c32e96c4",
   "metadata": {},
   "outputs": [],
   "source": [
    "a = pd.Series(data = [1,2,3,4,5], index = [\"A\",\"B\",\"C\",\"D\",\"E\"])"
   ]
  },
  {
   "cell_type": "code",
   "execution_count": 117,
   "id": "9b10ff40",
   "metadata": {},
   "outputs": [
    {
     "data": {
      "text/plain": [
       "B    2\n",
       "A    1\n",
       "C    3\n",
       "D    4\n",
       "E    5\n",
       "dtype: int64"
      ]
     },
     "execution_count": 117,
     "metadata": {},
     "output_type": "execute_result"
    }
   ],
   "source": [
    "a"
   ]
  },
  {
   "cell_type": "code",
   "execution_count": 115,
   "id": "5f326653",
   "metadata": {},
   "outputs": [],
   "source": [
    "a = a.reindex(index = [\"B\",\"A\",\"C\",\"D\",\"E\"])"
   ]
  },
  {
   "cell_type": "code",
   "execution_count": 116,
   "id": "71e94709",
   "metadata": {},
   "outputs": [
    {
     "data": {
      "text/plain": [
       "B    2\n",
       "A    1\n",
       "C    3\n",
       "D    4\n",
       "E    5\n",
       "dtype: int64"
      ]
     },
     "execution_count": 116,
     "metadata": {},
     "output_type": "execute_result"
    }
   ],
   "source": [
    "a"
   ]
  },
  {
   "cell_type": "markdown",
   "id": "23ee7088",
   "metadata": {},
   "source": [
    "## 15. Write a Pandas program to create the mean and standard deviation of the data of a given Series"
   ]
  },
  {
   "cell_type": "code",
   "execution_count": 120,
   "id": "f3460892",
   "metadata": {},
   "outputs": [],
   "source": [
    "s = np.arange(0,11)"
   ]
  },
  {
   "cell_type": "code",
   "execution_count": 121,
   "id": "19d8bb74",
   "metadata": {},
   "outputs": [
    {
     "data": {
      "text/plain": [
       "array([ 0,  1,  2,  3,  4,  5,  6,  7,  8,  9, 10])"
      ]
     },
     "execution_count": 121,
     "metadata": {},
     "output_type": "execute_result"
    }
   ],
   "source": [
    "s"
   ]
  },
  {
   "cell_type": "code",
   "execution_count": 123,
   "id": "5b817277",
   "metadata": {},
   "outputs": [
    {
     "data": {
      "text/plain": [
       "5.0"
      ]
     },
     "execution_count": 123,
     "metadata": {},
     "output_type": "execute_result"
    }
   ],
   "source": [
    "s.mean()  ## ortalama"
   ]
  },
  {
   "cell_type": "code",
   "execution_count": 125,
   "id": "889a2b1d",
   "metadata": {},
   "outputs": [
    {
     "data": {
      "text/plain": [
       "3.1622776601683795"
      ]
     },
     "execution_count": 125,
     "metadata": {},
     "output_type": "execute_result"
    }
   ],
   "source": [
    "s.std()  ##standart sapma"
   ]
  },
  {
   "cell_type": "code",
   "execution_count": null,
   "id": "df626dea",
   "metadata": {},
   "outputs": [],
   "source": []
  }
 ],
 "metadata": {
  "kernelspec": {
   "display_name": "Python 3 (ipykernel)",
   "language": "python",
   "name": "python3"
  },
  "language_info": {
   "codemirror_mode": {
    "name": "ipython",
    "version": 3
   },
   "file_extension": ".py",
   "mimetype": "text/x-python",
   "name": "python",
   "nbconvert_exporter": "python",
   "pygments_lexer": "ipython3",
   "version": "3.9.12"
  }
 },
 "nbformat": 4,
 "nbformat_minor": 5
}
