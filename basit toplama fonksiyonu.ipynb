{
 "cells": [
  {
   "cell_type": "code",
   "execution_count": 3,
   "id": "b55b4c14",
   "metadata": {},
   "outputs": [
    {
     "name": "stdout",
     "output_type": "stream",
     "text": [
      "birinci sayi : 11\n",
      "ikinci sayi : 12\n",
      "işleminiz nedir? topla\n",
      "23\n"
     ]
    }
   ],
   "source": [
    "sayi1 = int(input(\"birinci sayi : \"))\n",
    "sayi2 = int(input(\"ikinci sayi : \"))\n",
    "islem = (input(\"işleminiz nedir? \"))\n",
    "\n",
    "toplama = sayi1+sayi2\n",
    "cikarma = sayi1- sayi2\n",
    "if islem == \"topla\":\n",
    "    print(toplama)\n",
    "elif islem == \"cikar\":\n",
    "    print(cikarma)\n",
    "else:\n",
    "    print(\"hello merhaba\")"
   ]
  },
  {
   "cell_type": "code",
   "execution_count": null,
   "id": "0da6179a",
   "metadata": {},
   "outputs": [],
   "source": []
  }
 ],
 "metadata": {
  "kernelspec": {
   "display_name": "Python 3 (ipykernel)",
   "language": "python",
   "name": "python3"
  },
  "language_info": {
   "codemirror_mode": {
    "name": "ipython",
    "version": 3
   },
   "file_extension": ".py",
   "mimetype": "text/x-python",
   "name": "python",
   "nbconvert_exporter": "python",
   "pygments_lexer": "ipython3",
   "version": "3.9.13"
  }
 },
 "nbformat": 4,
 "nbformat_minor": 5
}
