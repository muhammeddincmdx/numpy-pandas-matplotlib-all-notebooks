{
 "cells": [
  {
   "cell_type": "code",
   "execution_count": 1,
   "id": "01e0124a-58f1-42bf-aa12-9367c19dabf4",
   "metadata": {},
   "outputs": [],
   "source": [
    "class CarProperties:\n",
    "    def __init__(self,color,brand,model):\n",
    "        self.color = color\n",
    "        self.brand = brand\n",
    "        self.model = model\n",
    "        "
   ]
  },
  {
   "cell_type": "code",
   "execution_count": 4,
   "id": "27129a68-c959-4fe0-9e3f-3a0fa42751cc",
   "metadata": {},
   "outputs": [],
   "source": [
    "class Insan():\n",
    "    yeme = \"Evet\"\n",
    "    icme = \"Evet\"\n",
    "    yurume = \"Evet\"\n",
    "    bilinendil = []\n",
    "    yas = 0\n",
    "ali = Insan()"
   ]
  },
  {
   "cell_type": "code",
   "execution_count": 3,
   "id": "314934ed-2c4d-40f7-845e-5bf5c7813afe",
   "metadata": {},
   "outputs": [
    {
     "name": "stdout",
     "output_type": "stream",
     "text": [
      "Evet\n"
     ]
    }
   ],
   "source": [
    "print(ali.yeme)"
   ]
  },
  {
   "cell_type": "code",
   "execution_count": 7,
   "id": "df406a2e-db32-449d-be7e-f2cea0ade7d4",
   "metadata": {},
   "outputs": [],
   "source": [
    "class Insan():\n",
    "    yeme = \"Evet\"\n",
    "    icme = \"Evet\"\n",
    "    yurume = \"Evet\"\n",
    "    bilinendil = []\n",
    "    yas = 0\n",
    "ali = Insan()\n",
    "ali.bilinendil.append(\"Turkce\")"
   ]
  },
  {
   "cell_type": "code",
   "execution_count": 8,
   "id": "b294d3e7-22da-42c4-bc43-5f6100016248",
   "metadata": {},
   "outputs": [
    {
     "data": {
      "text/plain": [
       "['Turkce']"
      ]
     },
     "execution_count": 8,
     "metadata": {},
     "output_type": "execute_result"
    }
   ],
   "source": [
    "ali.bilinendil"
   ]
  },
  {
   "cell_type": "code",
   "execution_count": 10,
   "id": "e6f0a472-3e1a-4740-acc4-b38f59672065",
   "metadata": {},
   "outputs": [
    {
     "name": "stdout",
     "output_type": "stream",
     "text": [
      "['Turkce']\n",
      "['Ingilizce']\n"
     ]
    }
   ],
   "source": [
    "class Insan():\n",
    "    yeme = \"Evet\"\n",
    "    icme = \"Evet\"\n",
    "    yurume = \"Evet\"\n",
    "    def __init__(self):\n",
    "        self.bilinendil = []\n",
    "        \n",
    "ali = Insan()\n",
    "veli = Insan()\n",
    "\n",
    "ali.bilinendil.append(\"Turkce\")\n",
    "veli.bilinendil.append(\"Ingilizce\")\n",
    "print(ali.bilinendil)\n",
    "print(veli.bilinendil)"
   ]
  },
  {
   "cell_type": "code",
   "execution_count": 21,
   "id": "d3ce23f4-b0b2-4e23-b48f-ad368f1546d1",
   "metadata": {},
   "outputs": [],
   "source": [
    "class Oyuncu():\n",
    "    takim_uyeleri = []\n",
    "    def __init__(self):\n",
    "        self.mevki = []\n",
    "    def mevki_ekle(self,mevki_ekleme):\n",
    "        self.mevki.append(mevki_ekleme)"
   ]
  },
  {
   "cell_type": "code",
   "execution_count": 22,
   "id": "e33d2e18-991f-4b32-bbd5-12a624209414",
   "metadata": {},
   "outputs": [],
   "source": [
    "ali = Oyuncu()\n",
    "ali.mevki_ekle(\"Orta Saha\")"
   ]
  },
  {
   "cell_type": "code",
   "execution_count": 24,
   "id": "5fa38e91-68e2-4b45-a62a-fab09009e865",
   "metadata": {},
   "outputs": [
    {
     "data": {
      "text/plain": [
       "['Orta Saha']"
      ]
     },
     "execution_count": 24,
     "metadata": {},
     "output_type": "execute_result"
    }
   ],
   "source": [
    "ali.mevki"
   ]
  },
  {
   "cell_type": "code",
   "execution_count": 28,
   "id": "4f477066-a2c1-481c-97e0-057f7dc07a50",
   "metadata": {},
   "outputs": [
    {
     "name": "stdout",
     "output_type": "stream",
     "text": [
      "\n",
      "        Yaş: 25\n",
      "        Cinsiyet: Erkek\n",
      "        Doğum Yeri: Türkiye\n",
      "        İsim: Ali\n",
      "        \n"
     ]
    }
   ],
   "source": [
    "class Isci():\n",
    "    def __init__(self,yas,cinsiyet,dogum_yeri,isim):\n",
    "        self.yas = yas\n",
    "        self.cinsiyet = cinsiyet\n",
    "        self.dogum_yeri = dogum_yeri\n",
    "        self.isim = isim\n",
    "\n",
    "    def IsciBilgi(self):\n",
    "        print(f\"\"\"\n",
    "        Yaş: {self.yas}\n",
    "        Cinsiyet: {self.cinsiyet}\n",
    "        Doğum Yeri: {self.dogum_yeri}\n",
    "        İsim: {self.isim}\n",
    "        \"\"\")\n",
    "isci1 = Isci(25,\"Erkek\",\"Türkiye\",\"Ali\")\n",
    "isci1.IsciBilgi()"
   ]
  },
  {
   "cell_type": "code",
   "execution_count": null,
   "id": "cbb268c7-8a68-460f-b1df-0db8e4cc7880",
   "metadata": {},
   "outputs": [],
   "source": []
  }
 ],
 "metadata": {
  "kernelspec": {
   "display_name": "Python 3 (ipykernel)",
   "language": "python",
   "name": "python3"
  },
  "language_info": {
   "codemirror_mode": {
    "name": "ipython",
    "version": 3
   },
   "file_extension": ".py",
   "mimetype": "text/x-python",
   "name": "python",
   "nbconvert_exporter": "python",
   "pygments_lexer": "ipython3",
   "version": "3.9.15"
  },
  "widgets": {
   "application/vnd.jupyter.widget-state+json": {
    "state": {},
    "version_major": 2,
    "version_minor": 0
   }
  }
 },
 "nbformat": 4,
 "nbformat_minor": 5
}
